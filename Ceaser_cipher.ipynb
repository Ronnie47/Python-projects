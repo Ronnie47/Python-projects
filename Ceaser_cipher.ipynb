{
  "nbformat": 4,
  "nbformat_minor": 0,
  "metadata": {
    "colab": {
      "provenance": [],
      "authorship_tag": "ABX9TyPxlgj9ct8zsRLIsoPeZxIt",
      "include_colab_link": true
    },
    "kernelspec": {
      "name": "python3",
      "display_name": "Python 3"
    },
    "language_info": {
      "name": "python"
    }
  },
  "cells": [
    {
      "cell_type": "markdown",
      "metadata": {
        "id": "view-in-github",
        "colab_type": "text"
      },
      "source": [
        "<a href=\"https://colab.research.google.com/github/Ronnie47/Python-projects/blob/main/Ceaser_cipher.ipynb\" target=\"_parent\"><img src=\"https://colab.research.google.com/assets/colab-badge.svg\" alt=\"Open In Colab\"/></a>"
      ]
    },
    {
      "cell_type": "code",
      "execution_count": 4,
      "metadata": {
        "colab": {
          "base_uri": "https://localhost:8080/"
        },
        "id": "ORoMbsWNcPCk",
        "outputId": "04b6f575-5757-4d05-c20e-6bbf67b6bccf"
      },
      "outputs": [
        {
          "name": "stdout",
          "output_type": "stream",
          "text": [
            "Type 'encode' or 'decode': \n",
            "decode\n",
            "Enter the text: \n",
            "mjqqt\n",
            "By how many steps you want to shift: \n",
            "5\n",
            "The decoded text is hello\n",
            "Type yes or no, to continue or to stop: \n",
            "no\n"
          ]
        }
      ],
      "source": [
        "# Ceaser Cipher\n",
        "\n",
        "alphabet = ['a', 'b', 'c', 'd', 'e', 'f', 'g', 'h', 'i', 'j', 'k', 'l', 'm', 'n', 'o', 'p', 'q', 'r', 's', 't', 'u', 'v','w', 'x', 'y', 'z','a', 'b', 'c', 'd', 'e', 'f', 'g', 'h', 'i', 'j', 'k', 'l', 'm', 'n', 'o', 'p,' 'q', 'r', 's', 't', 'u', 'v','w', 'x', 'y', 'z']\n",
        "\n",
        "def ceaser(start_text, shift, direction):\n",
        "  end_text = \"\"\n",
        "  if direction == 'decode':\n",
        "      shift *= -1\n",
        "  for letter in start_text:\n",
        "    position = alphabet.index(letter)\n",
        "    new_position = position + shift\n",
        "    end_text += alphabet[new_position]\n",
        "  print(f\"The {direction}d text is {end_text}\")\n",
        "\n",
        "should_continue = True\n",
        "\n",
        "while should_continue:\n",
        "  direction = input(\"Type 'encode' or 'decode': \\n\")\n",
        "  text = input('Enter the text: \\n').lower()\n",
        "  shift = int(input('By how many steps you want to shift: \\n'))\n",
        "  ceaser(start_text = text, shift = shift, direction = direction)\n",
        "\n",
        "  result = input('Type yes or no, to continue or to stop: \\n')\n",
        "  if result == 'no':\n",
        "    should_continue = False\n",
        "\n"
      ]
    }
  ]
}