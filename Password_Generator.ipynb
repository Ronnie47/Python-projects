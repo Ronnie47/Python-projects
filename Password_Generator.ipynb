{
  "nbformat": 4,
  "nbformat_minor": 0,
  "metadata": {
    "colab": {
      "provenance": [],
      "authorship_tag": "ABX9TyO9/zK93tDGj2RZTp7EtH4Z",
      "include_colab_link": true
    },
    "kernelspec": {
      "name": "python3",
      "display_name": "Python 3"
    },
    "language_info": {
      "name": "python"
    }
  },
  "cells": [
    {
      "cell_type": "markdown",
      "metadata": {
        "id": "view-in-github",
        "colab_type": "text"
      },
      "source": [
        "<a href=\"https://colab.research.google.com/github/Ronnie47/Python-projects/blob/main/Password_Generator.ipynb\" target=\"_parent\"><img src=\"https://colab.research.google.com/assets/colab-badge.svg\" alt=\"Open In Colab\"/></a>"
      ]
    },
    {
      "cell_type": "code",
      "execution_count": 1,
      "metadata": {
        "colab": {
          "base_uri": "https://localhost:8080/"
        },
        "id": "ruw1f-PxUZ_r",
        "outputId": "c9f442bd-82e9-4f88-b693-de996396b2f5"
      },
      "outputs": [
        {
          "output_type": "stream",
          "name": "stdout",
          "text": [
            "Welcome to the PyPassword Generator!\n",
            "How many letters would you like in your password?\n",
            "5\n",
            "How many symbols would you like?\n",
            "6\n",
            "How many numbers would you like?\n",
            "7\n",
            "Your password is : 3*$N+9*86#+i7pd15o\n"
          ]
        }
      ],
      "source": [
        "import random\n",
        "letters = ['a', 'b', 'c', 'd', 'e', 'f', 'g', 'h', 'i', 'j', 'k', 'l', 'm', 'n', 'o', 'p', 'q', 'r', 's', 't', 'u', 'v', 'w', 'x', 'y', 'z', 'A', 'B', 'C', 'D', 'E', 'F', 'G', 'H', 'I', 'J', 'K', 'L', 'M', 'N', 'O', 'P', 'Q', 'R', 'S', 'T', 'U', 'V', 'W', 'X', 'Y', 'Z']\n",
        "numbers = ['0', '1', '2', '3', '4', '5', '6', '7', '8', '9']\n",
        "symbols = ['!', '#', '$', '%', '&', '(', ')', '*', '+']\n",
        "\n",
        "print(\"Welcome to the PyPassword Generator!\")\n",
        "nr_letters= int(input(\"How many letters would you like in your password?\\n\"))\n",
        "nr_symbols = int(input(f\"How many symbols would you like?\\n\"))\n",
        "nr_numbers = int(input(f\"How many numbers would you like?\\n\"))\n",
        "\n",
        "password = []\n",
        "for char in range(1, nr_letters + 1) :\n",
        "  password += random.choice(letters)\n",
        "\n",
        "for char in range(1, nr_symbols + 1) :\n",
        "  password += random.choice(symbols)\n",
        "\n",
        "for char in range(1, nr_numbers + 1) :\n",
        "  password += random.choice(numbers)\n",
        "\n",
        "#print(password)\n",
        "random.shuffle(password)\n",
        "#print(password)\n",
        "\n",
        "passkey = \"\"\n",
        "for char in password :\n",
        "  passkey += char\n",
        "\n",
        "print(f\"Your password is : {passkey}\")\n"
      ]
    }
  ]
}